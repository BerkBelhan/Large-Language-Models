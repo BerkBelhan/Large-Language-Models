{
  "cells": [
    {
      "cell_type": "markdown",
      "metadata": {
        "id": "view-in-github",
        "colab_type": "text"
      },
      "source": [
        "<a href=\"https://colab.research.google.com/github/BerkBelhan/Large-Language-Models/blob/main/Company_Database_Chatbot.ipynb\" target=\"_parent\"><img src=\"https://colab.research.google.com/assets/colab-badge.svg\" alt=\"Open In Colab\"/></a>"
      ]
    },
    {
      "cell_type": "markdown",
      "metadata": {
        "id": "fHmqr5yuTBzP"
      },
      "source": [
        "# **Project Homework:** Developing a Chatbot using VS Code / Colab, SQLite, Gemini API, and Gradio"
      ]
    },
    {
      "cell_type": "markdown",
      "metadata": {
        "id": "4UEi7w8jVToq"
      },
      "source": [
        "# Install Dependencies"
      ]
    },
    {
      "cell_type": "code",
      "execution_count": null,
      "metadata": {
        "colab": {
          "base_uri": "https://localhost:8080/"
        },
        "collapsed": true,
        "id": "tQLepxwvTraX",
        "outputId": "316315f9-e850-434f-d0ec-af8f5dbe4e01"
      },
      "outputs": [
        {
          "output_type": "stream",
          "name": "stdout",
          "text": [
            "Requirement already satisfied: google-generativeai in /usr/local/lib/python3.11/dist-packages (0.8.4)\n",
            "Collecting gradio\n",
            "  Downloading gradio-5.22.0-py3-none-any.whl.metadata (16 kB)\n",
            "Requirement already satisfied: google-ai-generativelanguage==0.6.15 in /usr/local/lib/python3.11/dist-packages (from google-generativeai) (0.6.15)\n",
            "Requirement already satisfied: google-api-core in /usr/local/lib/python3.11/dist-packages (from google-generativeai) (2.24.2)\n",
            "Requirement already satisfied: google-api-python-client in /usr/local/lib/python3.11/dist-packages (from google-generativeai) (2.160.0)\n",
            "Requirement already satisfied: google-auth>=2.15.0 in /usr/local/lib/python3.11/dist-packages (from google-generativeai) (2.38.0)\n",
            "Requirement already satisfied: protobuf in /usr/local/lib/python3.11/dist-packages (from google-generativeai) (4.25.6)\n",
            "Requirement already satisfied: pydantic in /usr/local/lib/python3.11/dist-packages (from google-generativeai) (2.10.6)\n",
            "Requirement already satisfied: tqdm in /usr/local/lib/python3.11/dist-packages (from google-generativeai) (4.67.1)\n",
            "Requirement already satisfied: typing-extensions in /usr/local/lib/python3.11/dist-packages (from google-generativeai) (4.12.2)\n",
            "Requirement already satisfied: proto-plus<2.0.0dev,>=1.22.3 in /usr/local/lib/python3.11/dist-packages (from google-ai-generativelanguage==0.6.15->google-generativeai) (1.26.1)\n",
            "Collecting aiofiles<24.0,>=22.0 (from gradio)\n",
            "  Downloading aiofiles-23.2.1-py3-none-any.whl.metadata (9.7 kB)\n",
            "Requirement already satisfied: anyio<5.0,>=3.0 in /usr/local/lib/python3.11/dist-packages (from gradio) (3.7.1)\n",
            "Collecting fastapi<1.0,>=0.115.2 (from gradio)\n",
            "  Downloading fastapi-0.115.11-py3-none-any.whl.metadata (27 kB)\n",
            "Collecting ffmpy (from gradio)\n",
            "  Downloading ffmpy-0.5.0-py3-none-any.whl.metadata (3.0 kB)\n",
            "Collecting gradio-client==1.8.0 (from gradio)\n",
            "  Downloading gradio_client-1.8.0-py3-none-any.whl.metadata (7.1 kB)\n",
            "Collecting groovy~=0.1 (from gradio)\n",
            "  Downloading groovy-0.1.2-py3-none-any.whl.metadata (6.1 kB)\n",
            "Requirement already satisfied: httpx>=0.24.1 in /usr/local/lib/python3.11/dist-packages (from gradio) (0.28.1)\n",
            "Requirement already satisfied: huggingface-hub>=0.28.1 in /usr/local/lib/python3.11/dist-packages (from gradio) (0.28.1)\n",
            "Requirement already satisfied: jinja2<4.0 in /usr/local/lib/python3.11/dist-packages (from gradio) (3.1.6)\n",
            "Requirement already satisfied: markupsafe<4.0,>=2.0 in /usr/local/lib/python3.11/dist-packages (from gradio) (3.0.2)\n",
            "Requirement already satisfied: numpy<3.0,>=1.0 in /usr/local/lib/python3.11/dist-packages (from gradio) (2.0.2)\n",
            "Requirement already satisfied: orjson~=3.0 in /usr/local/lib/python3.11/dist-packages (from gradio) (3.10.15)\n",
            "Requirement already satisfied: packaging in /usr/local/lib/python3.11/dist-packages (from gradio) (24.2)\n",
            "Requirement already satisfied: pandas<3.0,>=1.0 in /usr/local/lib/python3.11/dist-packages (from gradio) (2.2.2)\n",
            "Requirement already satisfied: pillow<12.0,>=8.0 in /usr/local/lib/python3.11/dist-packages (from gradio) (11.1.0)\n",
            "Collecting pydub (from gradio)\n",
            "  Downloading pydub-0.25.1-py2.py3-none-any.whl.metadata (1.4 kB)\n",
            "Collecting python-multipart>=0.0.18 (from gradio)\n",
            "  Downloading python_multipart-0.0.20-py3-none-any.whl.metadata (1.8 kB)\n",
            "Requirement already satisfied: pyyaml<7.0,>=5.0 in /usr/local/lib/python3.11/dist-packages (from gradio) (6.0.2)\n",
            "Collecting ruff>=0.9.3 (from gradio)\n",
            "  Downloading ruff-0.11.0-py3-none-manylinux_2_17_x86_64.manylinux2014_x86_64.whl.metadata (25 kB)\n",
            "Collecting safehttpx<0.2.0,>=0.1.6 (from gradio)\n",
            "  Downloading safehttpx-0.1.6-py3-none-any.whl.metadata (4.2 kB)\n",
            "Collecting semantic-version~=2.0 (from gradio)\n",
            "  Downloading semantic_version-2.10.0-py2.py3-none-any.whl.metadata (9.7 kB)\n",
            "Collecting starlette<1.0,>=0.40.0 (from gradio)\n",
            "  Downloading starlette-0.46.1-py3-none-any.whl.metadata (6.2 kB)\n",
            "Collecting tomlkit<0.14.0,>=0.12.0 (from gradio)\n",
            "  Downloading tomlkit-0.13.2-py3-none-any.whl.metadata (2.7 kB)\n",
            "Requirement already satisfied: typer<1.0,>=0.12 in /usr/local/lib/python3.11/dist-packages (from gradio) (0.15.2)\n",
            "Collecting uvicorn>=0.14.0 (from gradio)\n",
            "  Downloading uvicorn-0.34.0-py3-none-any.whl.metadata (6.5 kB)\n",
            "Requirement already satisfied: fsspec in /usr/local/lib/python3.11/dist-packages (from gradio-client==1.8.0->gradio) (2024.10.0)\n",
            "Requirement already satisfied: websockets<16.0,>=10.0 in /usr/local/lib/python3.11/dist-packages (from gradio-client==1.8.0->gradio) (14.2)\n",
            "Requirement already satisfied: idna>=2.8 in /usr/local/lib/python3.11/dist-packages (from anyio<5.0,>=3.0->gradio) (3.10)\n",
            "Requirement already satisfied: sniffio>=1.1 in /usr/local/lib/python3.11/dist-packages (from anyio<5.0,>=3.0->gradio) (1.3.1)\n",
            "Requirement already satisfied: googleapis-common-protos<2.0.0,>=1.56.2 in /usr/local/lib/python3.11/dist-packages (from google-api-core->google-generativeai) (1.69.1)\n",
            "Requirement already satisfied: requests<3.0.0,>=2.18.0 in /usr/local/lib/python3.11/dist-packages (from google-api-core->google-generativeai) (2.32.3)\n",
            "Requirement already satisfied: cachetools<6.0,>=2.0.0 in /usr/local/lib/python3.11/dist-packages (from google-auth>=2.15.0->google-generativeai) (5.5.2)\n",
            "Requirement already satisfied: pyasn1-modules>=0.2.1 in /usr/local/lib/python3.11/dist-packages (from google-auth>=2.15.0->google-generativeai) (0.4.1)\n",
            "Requirement already satisfied: rsa<5,>=3.1.4 in /usr/local/lib/python3.11/dist-packages (from google-auth>=2.15.0->google-generativeai) (4.9)\n",
            "Requirement already satisfied: certifi in /usr/local/lib/python3.11/dist-packages (from httpx>=0.24.1->gradio) (2025.1.31)\n",
            "Requirement already satisfied: httpcore==1.* in /usr/local/lib/python3.11/dist-packages (from httpx>=0.24.1->gradio) (1.0.7)\n",
            "Requirement already satisfied: h11<0.15,>=0.13 in /usr/local/lib/python3.11/dist-packages (from httpcore==1.*->httpx>=0.24.1->gradio) (0.14.0)\n",
            "Requirement already satisfied: filelock in /usr/local/lib/python3.11/dist-packages (from huggingface-hub>=0.28.1->gradio) (3.17.0)\n",
            "Requirement already satisfied: python-dateutil>=2.8.2 in /usr/local/lib/python3.11/dist-packages (from pandas<3.0,>=1.0->gradio) (2.8.2)\n",
            "Requirement already satisfied: pytz>=2020.1 in /usr/local/lib/python3.11/dist-packages (from pandas<3.0,>=1.0->gradio) (2025.1)\n",
            "Requirement already satisfied: tzdata>=2022.7 in /usr/local/lib/python3.11/dist-packages (from pandas<3.0,>=1.0->gradio) (2025.1)\n",
            "Requirement already satisfied: annotated-types>=0.6.0 in /usr/local/lib/python3.11/dist-packages (from pydantic->google-generativeai) (0.7.0)\n",
            "Requirement already satisfied: pydantic-core==2.27.2 in /usr/local/lib/python3.11/dist-packages (from pydantic->google-generativeai) (2.27.2)\n",
            "Requirement already satisfied: click>=8.0.0 in /usr/local/lib/python3.11/dist-packages (from typer<1.0,>=0.12->gradio) (8.1.8)\n",
            "Requirement already satisfied: shellingham>=1.3.0 in /usr/local/lib/python3.11/dist-packages (from typer<1.0,>=0.12->gradio) (1.5.4)\n",
            "Requirement already satisfied: rich>=10.11.0 in /usr/local/lib/python3.11/dist-packages (from typer<1.0,>=0.12->gradio) (13.9.4)\n",
            "Requirement already satisfied: httplib2<1.dev0,>=0.19.0 in /usr/local/lib/python3.11/dist-packages (from google-api-python-client->google-generativeai) (0.22.0)\n",
            "Requirement already satisfied: google-auth-httplib2<1.0.0,>=0.2.0 in /usr/local/lib/python3.11/dist-packages (from google-api-python-client->google-generativeai) (0.2.0)\n",
            "Requirement already satisfied: uritemplate<5,>=3.0.1 in /usr/local/lib/python3.11/dist-packages (from google-api-python-client->google-generativeai) (4.1.1)\n",
            "Requirement already satisfied: grpcio<2.0dev,>=1.33.2 in /usr/local/lib/python3.11/dist-packages (from google-api-core[grpc]!=2.0.*,!=2.1.*,!=2.10.*,!=2.2.*,!=2.3.*,!=2.4.*,!=2.5.*,!=2.6.*,!=2.7.*,!=2.8.*,!=2.9.*,<3.0.0dev,>=1.34.1->google-ai-generativelanguage==0.6.15->google-generativeai) (1.71.0)\n",
            "Requirement already satisfied: grpcio-status<2.0.dev0,>=1.33.2 in /usr/local/lib/python3.11/dist-packages (from google-api-core[grpc]!=2.0.*,!=2.1.*,!=2.10.*,!=2.2.*,!=2.3.*,!=2.4.*,!=2.5.*,!=2.6.*,!=2.7.*,!=2.8.*,!=2.9.*,<3.0.0dev,>=1.34.1->google-ai-generativelanguage==0.6.15->google-generativeai) (1.62.3)\n",
            "Requirement already satisfied: pyparsing!=3.0.0,!=3.0.1,!=3.0.2,!=3.0.3,<4,>=2.4.2 in /usr/local/lib/python3.11/dist-packages (from httplib2<1.dev0,>=0.19.0->google-api-python-client->google-generativeai) (3.2.1)\n",
            "Requirement already satisfied: pyasn1<0.7.0,>=0.4.6 in /usr/local/lib/python3.11/dist-packages (from pyasn1-modules>=0.2.1->google-auth>=2.15.0->google-generativeai) (0.6.1)\n",
            "Requirement already satisfied: six>=1.5 in /usr/local/lib/python3.11/dist-packages (from python-dateutil>=2.8.2->pandas<3.0,>=1.0->gradio) (1.17.0)\n",
            "Requirement already satisfied: charset-normalizer<4,>=2 in /usr/local/lib/python3.11/dist-packages (from requests<3.0.0,>=2.18.0->google-api-core->google-generativeai) (3.4.1)\n",
            "Requirement already satisfied: urllib3<3,>=1.21.1 in /usr/local/lib/python3.11/dist-packages (from requests<3.0.0,>=2.18.0->google-api-core->google-generativeai) (2.3.0)\n",
            "Requirement already satisfied: markdown-it-py>=2.2.0 in /usr/local/lib/python3.11/dist-packages (from rich>=10.11.0->typer<1.0,>=0.12->gradio) (3.0.0)\n",
            "Requirement already satisfied: pygments<3.0.0,>=2.13.0 in /usr/local/lib/python3.11/dist-packages (from rich>=10.11.0->typer<1.0,>=0.12->gradio) (2.18.0)\n",
            "Requirement already satisfied: mdurl~=0.1 in /usr/local/lib/python3.11/dist-packages (from markdown-it-py>=2.2.0->rich>=10.11.0->typer<1.0,>=0.12->gradio) (0.1.2)\n",
            "Downloading gradio-5.22.0-py3-none-any.whl (46.2 MB)\n",
            "\u001b[2K   \u001b[90m━━━━━━━━━━━━━━━━━━━━━━━━━━━━━━━━━━━━━━━━\u001b[0m \u001b[32m46.2/46.2 MB\u001b[0m \u001b[31m16.0 MB/s\u001b[0m eta \u001b[36m0:00:00\u001b[0m\n",
            "\u001b[?25hDownloading gradio_client-1.8.0-py3-none-any.whl (322 kB)\n",
            "\u001b[2K   \u001b[90m━━━━━━━━━━━━━━━━━━━━━━━━━━━━━━━━━━━━━━━━\u001b[0m \u001b[32m322.2/322.2 kB\u001b[0m \u001b[31m13.9 MB/s\u001b[0m eta \u001b[36m0:00:00\u001b[0m\n",
            "\u001b[?25hDownloading aiofiles-23.2.1-py3-none-any.whl (15 kB)\n",
            "Downloading fastapi-0.115.11-py3-none-any.whl (94 kB)\n",
            "\u001b[2K   \u001b[90m━━━━━━━━━━━━━━━━━━━━━━━━━━━━━━━━━━━━━━━━\u001b[0m \u001b[32m94.9/94.9 kB\u001b[0m \u001b[31m6.0 MB/s\u001b[0m eta \u001b[36m0:00:00\u001b[0m\n",
            "\u001b[?25hDownloading groovy-0.1.2-py3-none-any.whl (14 kB)\n",
            "Downloading python_multipart-0.0.20-py3-none-any.whl (24 kB)\n",
            "Downloading ruff-0.11.0-py3-none-manylinux_2_17_x86_64.manylinux2014_x86_64.whl (11.3 MB)\n",
            "\u001b[2K   \u001b[90m━━━━━━━━━━━━━━━━━━━━━━━━━━━━━━━━━━━━━━━━\u001b[0m \u001b[32m11.3/11.3 MB\u001b[0m \u001b[31m72.1 MB/s\u001b[0m eta \u001b[36m0:00:00\u001b[0m\n",
            "\u001b[?25hDownloading safehttpx-0.1.6-py3-none-any.whl (8.7 kB)\n",
            "Downloading semantic_version-2.10.0-py2.py3-none-any.whl (15 kB)\n",
            "Downloading starlette-0.46.1-py3-none-any.whl (71 kB)\n",
            "\u001b[2K   \u001b[90m━━━━━━━━━━━━━━━━━━━━━━━━━━━━━━━━━━━━━━━━\u001b[0m \u001b[32m72.0/72.0 kB\u001b[0m \u001b[31m3.4 MB/s\u001b[0m eta \u001b[36m0:00:00\u001b[0m\n",
            "\u001b[?25hDownloading tomlkit-0.13.2-py3-none-any.whl (37 kB)\n",
            "Downloading uvicorn-0.34.0-py3-none-any.whl (62 kB)\n",
            "\u001b[2K   \u001b[90m━━━━━━━━━━━━━━━━━━━━━━━━━━━━━━━━━━━━━━━━\u001b[0m \u001b[32m62.3/62.3 kB\u001b[0m \u001b[31m3.2 MB/s\u001b[0m eta \u001b[36m0:00:00\u001b[0m\n",
            "\u001b[?25hDownloading ffmpy-0.5.0-py3-none-any.whl (6.0 kB)\n",
            "Downloading pydub-0.25.1-py2.py3-none-any.whl (32 kB)\n",
            "Installing collected packages: pydub, uvicorn, tomlkit, semantic-version, ruff, python-multipart, groovy, ffmpy, aiofiles, starlette, safehttpx, gradio-client, fastapi, gradio\n",
            "Successfully installed aiofiles-23.2.1 fastapi-0.115.11 ffmpy-0.5.0 gradio-5.22.0 gradio-client-1.8.0 groovy-0.1.2 pydub-0.25.1 python-multipart-0.0.20 ruff-0.11.0 safehttpx-0.1.6 semantic-version-2.10.0 starlette-0.46.1 tomlkit-0.13.2 uvicorn-0.34.0\n"
          ]
        }
      ],
      "source": [
        "!pip install google-generativeai gradio"
      ]
    },
    {
      "cell_type": "markdown",
      "metadata": {
        "id": "D0hJSBldVCGL"
      },
      "source": [
        "# Initial Configuration"
      ]
    },
    {
      "cell_type": "code",
      "execution_count": null,
      "metadata": {
        "id": "vYH0qaO5U9fs"
      },
      "outputs": [],
      "source": [
        "import os\n",
        "import json\n",
        "import sqlite3\n",
        "import google.generativeai as genai\n",
        "from google.colab import userdata\n",
        "from google.generativeai.types import HarmCategory, HarmBlockThreshold\n",
        "\n",
        "# Configure the API key\n",
        "key = userdata.get('GOOGLE_API_KEY')\n",
        "\n",
        "# Configure the API key (Replace with your actual key)\n",
        "genai.configure(api_key = key)\n",
        "\n",
        "# Configure the model\n",
        "generation_config = {\n",
        "    \"temperature\": 0.1,\n",
        "    \"top_p\": 0.95,\n",
        "    \"top_k\": 64,\n",
        "    \"max_output_tokens\": 8192,\n",
        "    \"response_mime_type\": \"application/json\",\n",
        "}"
      ]
    },
    {
      "cell_type": "markdown",
      "metadata": {
        "id": "xGX4Q-bnU-Od"
      },
      "source": [
        "# System Prompt with Structured Output"
      ]
    },
    {
      "cell_type": "code",
      "execution_count": null,
      "metadata": {
        "id": "6e0RGuEaKtPO"
      },
      "outputs": [],
      "source": [
        "\n",
        "\n",
        "# SystemPrompt v1.3\n",
        "system_prompt = \"\"\"\n",
        "You are a helpful assistant for a company database. Your goal is to understand the manager's intent and convert it into a valid SQL query to retrieve information\n",
        "from the Northwind database and then using database output provide user friendly output about the data. Therefore, there will be 2 different output type:\n",
        "SQL Query and User Friendly response. You have to provide the best information about the context. The user may ask questions in Turkish or English, and your responses\n",
        " should be in the appropriate language.\n",
        "\n",
        "**Northwind Database Schema:**\n",
        "Table: Categories\n",
        "Columns: CategoryID (INTEGER), CategoryName (TEXT), Description (TEXT)\n",
        "Table: Customers\n",
        "Columns: CustomerID (INTEGER), CustomerName (TEXT), ContactName (TEXT), Address (TEXT), City (TEXT), PostalCode (TEXT), Country (TEXT)\n",
        "Table: Employees\n",
        "Columns: EmployeeID (INTEGER), LastName (TEXT), FirstName (TEXT), BirthDate (DATE), Photo (TEXT), Notes (TEXT)\n",
        "Table: Shippers\n",
        "Columns: ShipperID (INTEGER), ShipperName (TEXT), Phone (TEXT)\n",
        "Table: Suppliers\n",
        "Columns: SupplierID (INTEGER), SupplierName (TEXT), ContactName (TEXT), Address (TEXT), City (TEXT), PostalCode (TEXT), Country (TEXT), Phone (TEXT)\n",
        "Table: Products\n",
        "Columns: ProductID (INTEGER), ProductName (TEXT), SupplierID (INTEGER), CategoryID (INTEGER), Unit (TEXT), Price (NUMERIC)\n",
        "Table: Orders\n",
        "Columns: OrderID (INTEGER), CustomerID (INTEGER), EmployeeID (INTEGER), OrderDate (DATETIME), ShipperID (INTEGER)\n",
        "Table: OrderDetails\n",
        "Columns: OrderDetailID (INTEGER), OrderID (INTEGER), ProductID (INTEGER), Quantity (INTEGER)\n",
        "\n",
        "\n",
        "**Example:**\n",
        "**Input:** \"How many customers are there ?\"\n",
        "**Output:** \"SELECT COUNT(*) AS total_customers FROM customers;\"\n",
        "**Input:** \"Current overall result is '159'\"\n",
        "**Output:** \"In our firm there are 159 customers.\"\n",
        "\n",
        "**Example2:**\n",
        "**Input:** \"Provide the details about product has id 12\"\n",
        "**Output:** \"SELECT * FROM Products;\"\n",
        "**Input:** \"Current overall result is 'etc etc...'\"\n",
        "**Output:** \"SELECT * FROM ProductDetails;\"\n",
        "**Input:** \"Current overall result is \"{composite_version_of_two_request}\"\n",
        "**Output:** \"Here is the all the informations about product 12\\n Name: etc\\nLocation: etc...\"\n",
        "\n",
        "**Example3:**\n",
        "**Input:** \"How many customers are there ?\"\n",
        "**Output:** \"SELECT COUNT(*) AS total_customers FROM customers;\"\n",
        "**Input:** \"Database result is '159'\"\n",
        "**Output:** \"In our firm there are 159 customers.\"\n",
        "\n",
        "**Example4:**\n",
        "**Input:** \"How many orders were placed on 1996-08-01?\"\n",
        "**Output:** \"SELECT COUNT(*) AS total_orders FROM orders WHERE order_date = '1996-08-01';\"\n",
        "**Input:** \"Database result is '2'\"\n",
        "**Output:** \"There were 2 orders placed on 1996-08-01.\"\n",
        "\n",
        "**Example5:**\n",
        "**Input:** \"What are the names of all the products supplied by 'Exotic Liquid'?\"\n",
        "**Output:** \"SELECT p.ProductName FROM Products p JOIN Suppliers s ON p.SupplierID = s.SupplierID WHERE s.SupplierName = 'Exotic Liquid';\"\n",
        "**Input:** \"Database result is '('Chais',)('Chang',) ('Aniseed Syrup',)'\"\n",
        "**Output:** \"The products supplied by Exotic Liquid are: Chais, Chang, and Aniseed Syrup.\"\n",
        "\n",
        "\n",
        "In order to provide the best information, try to always wrap the element id's to valueable information. For instance, in second example user is feeded with many tables data.\n",
        "We don't want to provide information about database table ids. Also NEVER execute destructive queries (DELETE, UPDATE, DROP).\n",
        "\n",
        "**Bad Query Example:**\n",
        "**Input:** \"Provide the product details for product id 1\"\n",
        "**Output:** \"Here is the information for Product ID 1:\n",
        "\n",
        "*   **Product Name:** Chais\n",
        "*   **Supplier ID:** 1\n",
        "*   **Category ID:** 1\n",
        "*   **Unit:** 10 boxes x 20 bags\n",
        "*   **Price:** 18\"\n",
        "\n",
        "That's a bad output because supplier id and category id are not useful informations. Instead you should also check those details with\n",
        "\"SELECT * FROM Suppliers where id=1;\" --> New Information Gathered\n",
        "\"SELECT * FROM Categories where id=1;\" --> New Information Gathered\n",
        "\n",
        "With chain request we can provide the best output for the user which is our goal\n",
        "\n",
        "**Important notes:**\n",
        "\n",
        "1. Do not try to provide multiple queries in single chat response because we will already provide the overall data in the new context\n",
        "2. Always decide the new query based on the information you got from previous outputs. For instance, don't try to fetch data for all\n",
        "product_id=1 for all tables because maybe some tables don't contain product_id detail\n",
        "3. Sometimes, in data there won't be element_id but it doesn't mean our all data fetches are ended. Always check table names for useful\n",
        "data which can provide information about current request. For instance, orderdetails table can provide information for orders table.\n",
        "\n",
        "**Output Format:**\n",
        "Use this JSON schema:\n",
        "\n",
        "Response = {'is_sql_query': bool, 'content': str}\n",
        "Return: Response\n",
        "\"\"\""
      ]
    },
    {
      "cell_type": "markdown",
      "metadata": {
        "id": "k91zHqBsUpec"
      },
      "source": [
        "# Old Prompt Versions"
      ]
    },
    {
      "cell_type": "code",
      "execution_count": null,
      "metadata": {
        "id": "WnIGEXVYMTrh"
      },
      "outputs": [],
      "source": [
        "\"\"\" SystemPrompt v1.2\n",
        "northwind_schema =\n",
        "Northwind Database Schema:\n",
        "- Table: Customer\n",
        "  - Columns: CustomerID (text), CompanyName (text), ContactName (text), ContactTitle (text), Address (text), City (text), Region (text), PostalCode (text), Country (text),\n",
        "   Phone (text), Fax (text)\n",
        "- Table: Order\n",
        "  - Columns: OrderID (int), CustomerID (text), EmployeeID (int), OrderDate (text), RequiredDate (text), ShippedDate (text), ShipVia (int), Freight (real), ShipName (text),\n",
        "  ShipAddress (text), ShipCity (text), ShipRegion (text), ShipPostalCode (text), ShipCountry (text)\n",
        "- Table: Employee\n",
        "  - Columns: EmployeeID (int), LastName (text), FirstName (text), Title (text), TitleOfCourtesy (text), BirthDate (text), HireDate (text), Address (text), City (text),\n",
        "   Region (text), PostalCode (text), Country (text), HomePhone (text), Extension (text), Photo (blob), Notes (text), ReportsTo (int), PhotoPath (text)\n",
        "- Table: Product\n",
        "  - Columns: ProductID (int), ProductName (text), SupplierID (int), CategoryID (int), QuantityPerUnit (text), UnitPrice (real), UnitsInStock (int), UnitsOnOrder (int),\n",
        "   ReorderLevel (int), Discontinued (int)\n",
        "- Table: OrderDetail\n",
        "  - Columns: OrderID (int), ProductID (int), UnitPrice (real), Quantity (int), Discount (real)\n",
        "\n",
        "\n",
        "# Define the system prompt\n",
        "system_prompt = f\n",
        "You are a helpful assistant for a company database. Your goal is to understand the manager's intent and convert it into a valid SQL query to retrieve information\n",
        "from the Northwind database. The user may ask questions in Turkish or English, and your responses should be in the appropriate language.\n",
        "\n",
        "**Database Schema:**\n",
        "{northwind_schema}\n",
        "\n",
        "**Do not:**\n",
        "* Provide the database schema or technical details to the user.\n",
        "* Engage in unrelated conversations outside of the context of retrieving data from the company database.\n",
        "* Offer any advice or information outside of what is stored in the database.\n",
        "\n",
        "**Instead:**\n",
        "* Focus on understanding the intent of the user's query and converting it into a valid SQL statement.\n",
        "* The generated SQL query should automatically reference valid tables and columns from the provided schema. The model should ensure that column names and table names\n",
        "in the SQL query are valid and match those in the schema without needing further validation or correction.\n",
        "* If the query refers to a table or column not in the schema, rewrite the query to reference the closest available table or column from the schema, ensuring the query is valid.\n",
        "* Respond with a structured JSON format, including the SQL query that you would execute on the SQLite database.\n",
        "\n",
        "**Example 1:**\n",
        "**You:** \"How can I assist you today?\"\n",
        "**Manager:** \"What are the current orders placed by customers?\"\n",
        "**You:** \"I see you're interested in the customer orders. Here's the SQL query I would use to retrieve that information.\"\n",
        "**SQL Query:** \"SELECT * FROM Orders;\"\n",
        "\n",
        "**Example 2:**\n",
        "**You:** \"How can I assist you today?\"\n",
        "**Manager:** \"Tell me which products are out of stock.\"\n",
        "**You:** \"It seems you're interested in the product availability. Here's the SQL query I would use.\"\n",
        "**SQL Query:** \"SELECT * FROM Products WHERE UnitsInStock = 0;\"\n",
        "\n",
        "**Output Format:**\n",
        "Use JSON with the following schema:\n",
        "\n",
        "```json\n",
        "{{\n",
        "  \"action\": \"QUERY\",\n",
        "  \"content\": \"SQL Query: SELECT * FROM Orders WHERE UnitsInStock = 0;\",\n",
        "  \"probability\": 1.0\n",
        "}}\n",
        "\n",
        "\"\"\""
      ]
    },
    {
      "cell_type": "code",
      "execution_count": null,
      "metadata": {
        "id": "GypgAzWJR8J0"
      },
      "outputs": [],
      "source": [
        "\"\"\"SystemPrompt v1.1\n",
        "system_prompt =\n",
        "You are an AI SQL assistant. Your goal is to convert natural language questions into SQL queries\n",
        "for an SQLite database. The database contains structured business-related data.\n",
        "\n",
        "**Rules:**\n",
        "1. Only generate valid SQL queries.\n",
        "2. Return results in JSON format.\n",
        "3. If the query is unclear, ask a clarifying question instead of making assumptions.\n",
        "4. NEVER execute destructive queries (DELETE, UPDATE, DROP).\n",
        "\n",
        "**Example 1:**\n",
        "User: \"List all employees.\"\n",
        "AI Response:\n",
        "```json\n",
        "{\"action\": \"STOP\",\n",
        " \"query\": \"SELECT * FROM Employees;\",\n",
        " \"probability\": 0.85}\n",
        " \"\"\""
      ]
    },
    {
      "cell_type": "markdown",
      "metadata": {
        "id": "--F1-Mb1UteI"
      },
      "source": [
        "# Model Initialization"
      ]
    },
    {
      "cell_type": "code",
      "execution_count": null,
      "metadata": {
        "id": "FdrfpYWH4IMx"
      },
      "outputs": [],
      "source": [
        "model = genai.GenerativeModel(model_name='gemini-1.5-flash-latest',\n",
        "                                           generation_config=generation_config,\n",
        "                                           safety_settings={\n",
        "        HarmCategory.HARM_CATEGORY_HATE_SPEECH: HarmBlockThreshold.BLOCK_NONE,\n",
        "        HarmCategory.HARM_CATEGORY_HARASSMENT: HarmBlockThreshold.BLOCK_NONE,\n",
        "        HarmCategory.HARM_CATEGORY_DANGEROUS_CONTENT : HarmBlockThreshold.BLOCK_NONE,\n",
        "    },\n",
        "                                           system_instruction=system_prompt)\n",
        "chat = model.start_chat(history=[])\n"
      ]
    },
    {
      "cell_type": "code",
      "execution_count": null,
      "metadata": {
        "colab": {
          "base_uri": "https://localhost:8080/"
        },
        "id": "r6RZkwUxdGUR",
        "outputId": "10c1ce60-8bd9-4cb4-c833-e293e0747284"
      },
      "outputs": [
        {
          "data": {
            "text/plain": [
              "genai.GenerativeModel(\n",
              "    model_name='models/gemini-1.5-flash-latest',\n",
              "    generation_config={'temperature': 0.1, 'top_p': 0.95, 'top_k': 64, 'max_output_tokens': 8192, 'response_mime_type': 'application/json'},\n",
              "    safety_settings={<HarmCategory.HARM_CATEGORY_HATE_SPEECH: 8>: <HarmBlockThreshold.BLOCK_NONE: 4>, <HarmCategory.HARM_CATEGORY_HARASSMENT: 7>: <HarmBlockThreshold.BLOCK_NONE: 4>, <HarmCategory.HARM_CATEGORY_DANGEROUS_CONTENT: 10>: <HarmBlockThreshold.BLOCK_NONE: 4>},\n",
              "    tools=None,\n",
              "    system_instruction='\\nYou are a helpful assistant for a company database. Your goal is to understand the manager\\'s intent and convert it into a valid SQL query to retrieve information\\nfrom the Northwind database and then using database output provide user friendly output about the data. Therefore, there will be 2 different output type:\\nSQL Query and User Friendly response. You have to provide the best information about the context. The user may ask questions in Turkish or English, and your responses\\n should be in the appropriate language.\\n\\n**Northwind Database Schema:**\\nTable: Categories\\nColumns: CategoryID (INTEGER), CategoryName (TEXT), Description (TEXT)\\nTable: Customers\\nColumns: CustomerID (INTEGER), CustomerName (TEXT), ContactName (TEXT), Address (TEXT), City (TEXT), PostalCode (TEXT), Country (TEXT)\\nTable: Employees\\nColumns: EmployeeID (INTEGER), LastName (TEXT), FirstName (TEXT), BirthDate (DATE), Photo (TEXT), Notes (TEXT)\\nTable: Shippers\\nColumns: ShipperID (INTEGER), ShipperName (TEXT), Phone (TEXT)\\nTable: Suppliers\\nColumns: SupplierID (INTEGER), SupplierName (TEXT), ContactName (TEXT), Address (TEXT), City (TEXT), PostalCode (TEXT), Country (TEXT), Phone (TEXT)\\nTable: Products\\nColumns: ProductID (INTEGER), ProductName (TEXT), SupplierID (INTEGER), CategoryID (INTEGER), Unit (TEXT), Price (NUMERIC)\\nTable: Orders\\nColumns: OrderID (INTEGER), CustomerID (INTEGER), EmployeeID (INTEGER), OrderDate (DATETIME), ShipperID (INTEGER)\\nTable: OrderDetails\\nColumns: OrderDetailID (INTEGER), OrderID (INTEGER), ProductID (INTEGER), Quantity (INTEGER)\\n\\n\\n**Example:**\\n**Input:** \"How many customers are there ?\"\\n**Output:** \"SELECT COUNT(*) AS total_customers FROM customers;\"\\n**Input:** \"Current overall result is \\'159\\'\"\\n**Output:** \"In our firm there are 159 customers.\"\\n\\n**Example2:**\\n**Input:** \"Provide the details about product has id 12\"\\n**Output:** \"SELECT * FROM Products;\"\\n**Input:** \"Current overall result is \\'etc etc...\\'\"\\n**Output:** \"SELECT * FROM ProductDetails;\"\\n**Input:** \"Current overall result is \"{composite_version_of_two_request}\"\\n**Output:** \"Here is the all the informations about product 12\\n Name: etc\\nLocation: etc...\"\\n\\n**Example3:**\\n**Input:** \"How many customers are there ?\"\\n**Output:** \"SELECT COUNT(*) AS total_customers FROM customers;\"\\n**Input:** \"Database result is \\'159\\'\"\\n**Output:** \"In our firm there are 159 customers.\"\\n\\n**Example4:**\\n**Input:** \"How many orders were placed on 1996-08-01?\"\\n**Output:** \"SELECT COUNT(*) AS total_orders FROM orders WHERE order_date = \\'1996-08-01\\';\"\\n**Input:** \"Database result is \\'2\\'\"\\n**Output:** \"There were 2 orders placed on 1996-08-01.\"\\n\\n**Example5:**\\n**Input:** \"What are the names of all the products supplied by \\'Exotic Liquid\\'?\"\\n**Output:** \"SELECT p.ProductName FROM Products p JOIN Suppliers s ON p.SupplierID = s.SupplierID WHERE s.SupplierName = \\'Exotic Liquid\\';\"\\n**Input:** \"Database result is \\'(\\'Chais\\',)(\\'Chang\\',) (\\'Aniseed Syrup\\',)\\'\"\\n**Output:** \"The products supplied by Exotic Liquid are: Chais, Chang, and Aniseed Syrup.\"\\n\\n\\nIn order to provide the best information, try to always wrap the element id\\'s to valueable information. For instance, in second example user is feeded with many tables data.\\nWe don\\'t want to provide information about database table ids. Also NEVER execute destructive queries (DELETE, UPDATE, DROP).\\n\\n**Bad Query Example:**\\n**Input:** \"Provide the product details for product id 1\"\\n**Output:** \"Here is the information for Product ID 1:\\n\\n*   **Product Name:** Chais\\n*   **Supplier ID:** 1\\n*   **Category ID:** 1\\n*   **Unit:** 10 boxes x 20 bags\\n*   **Price:** 18\"\\n\\nThat\\'s a bad output because supplier id and category id are not useful informations. Instead you should also check those details with\\n\"SELECT * FROM Suppliers where id=1;\" --> New Information Gathered\\n\"SELECT * FROM Categories where id=1;\" --> New Information Gathered\\n\\nWith chain request we can provide the best output for the user which is our goal\\n\\n**Important notes:**\\n\\n1. Do not try to provide multiple queries in single chat response because we will already provide the overall data in the new context\\n2. Always decide the new query based on the information you got from previous outputs. For instance, don\\'t try to fetch data for all\\nproduct_id=1 for all tables because maybe some tables don\\'t contain product_id detail\\n3. Sometimes, in data there won\\'t be element_id but it doesn\\'t mean our all data fetches are ended. Always check table names for useful\\ndata which can provide information about current request. For instance, orderdetails table can provide information for orders table.\\n\\n**Output Format:**\\nUse this JSON schema:\\n\\nResponse = {\\'is_sql_query\\': bool, \\'content\\': str}\\nReturn: Response\\n',\n",
              "    cached_content=None\n",
              ")"
            ]
          },
          "execution_count": 4,
          "metadata": {},
          "output_type": "execute_result"
        }
      ],
      "source": [
        "model"
      ]
    },
    {
      "cell_type": "markdown",
      "metadata": {
        "id": "z1gnED92UxCM"
      },
      "source": [
        "# SQLite Connection"
      ]
    },
    {
      "cell_type": "code",
      "execution_count": null,
      "metadata": {
        "colab": {
          "base_uri": "https://localhost:8080/"
        },
        "id": "4fyf66z4Lj9n",
        "outputId": "ed736bc0-f520-47f3-d483-ab7089e4183d"
      },
      "outputs": [
        {
          "output_type": "stream",
          "name": "stdout",
          "text": [
            "(1, 'Alfreds Futterkiste', 'Maria Anders', 'Obere Str. 57', 'Berlin', '12209', 'Germany')\n",
            "(2, 'Ana Trujillo Emparedados y helados', 'Ana Trujillo', 'Avda. de la Constitución 2222', 'México D.F.', '5021', 'Mexico')\n",
            "(3, 'Antonio Moreno Taquería', 'Antonio Moreno', 'Mataderos 2312', 'México D.F.', '5023', 'Mexico')\n",
            "(4, 'Around the Horn', 'Thomas Hardy', '120 Hanover Sq.', 'London', 'WA1 1DP', 'UK')\n",
            "(5, 'Berglunds snabbköp', 'Christina Berglund', 'Berguvsvägen 8', 'Luleå', 'S-958 22', 'Sweden')\n",
            "(6, 'Blauer See Delikatessen', 'Hanna Moos', 'Forsterstr. 57', 'Mannheim', '68306', 'Germany')\n",
            "(7, 'Blondel père et fils', 'Frédérique Citeaux', '24, place Kléber', 'Strasbourg', '67000', 'France')\n",
            "(8, 'Bólido Comidas preparadas', 'Martín Sommer', 'C/ Araquil, 67', 'Madrid', '28023', 'Spain')\n",
            "(9, \"Bon app''\", 'Laurence Lebihans', '12, rue des Bouchers', 'Marseille', '13008', 'France')\n",
            "(10, 'Bottom-Dollar Marketse', 'Elizabeth Lincoln', '23 Tsawassen Blvd.', 'Tsawassen', 'T2F 8M4', 'Canada')\n",
            "(11, \"B''s Beverages\", 'Victoria Ashworth', 'Fauntleroy Circus', 'London', 'EC2 5NT', 'UK')\n",
            "(12, 'Cactus Comidas para llevar', 'Patricio Simpson', 'Cerrito 333', 'Buenos Aires', '1010', 'Argentina')\n",
            "(13, 'Centro comercial Moctezuma', 'Francisco Chang', 'Sierras de Granada 9993', 'México D.F.', '5022', 'Mexico')\n",
            "(14, 'Chop-suey Chinese', 'Yang Wang', 'Hauptstr. 29', 'Bern', '3012', 'Switzerland')\n",
            "(15, 'Comércio Mineiro', 'Pedro Afonso', 'Av. dos Lusíadas, 23', 'São Paulo', '05432-043', 'Brazil')\n",
            "(16, 'Consolidated Holdings', 'Elizabeth Brown', 'Berkeley Gardens 12 Brewery', 'London', 'WX1 6LT', 'UK')\n",
            "(17, 'Drachenblut Delikatessend', 'Sven Ottlieb', 'Walserweg 21', 'Aachen', '52066', 'Germany')\n",
            "(18, 'Du monde entier', 'Janine Labrune', '67, rue des Cinquante Otages', 'Nantes', '44000', 'France')\n",
            "(19, 'Eastern Connection', 'Ann Devon', '35 King George', 'London', 'WX3 6FW', 'UK')\n",
            "(20, 'Ernst Handel', 'Roland Mendel', 'Kirchgasse 6', 'Graz', '8010', 'Austria')\n",
            "(21, 'Familia Arquibaldo', 'Aria Cruz', 'Rua Orós, 92', 'São Paulo', '05442-030', 'Brazil')\n",
            "(22, 'FISSA Fabrica Inter. Salchichas S.A.', 'Diego Roel', 'C/ Moralzarzal, 86', 'Madrid', '28034', 'Spain')\n",
            "(23, 'Folies gourmandes', 'Martine Rancé', '184, chaussée de Tournai', 'Lille', '59000', 'France')\n",
            "(24, 'Folk och fä HB', 'Maria Larsson', 'Åkergatan 24', 'Bräcke', 'S-844 67', 'Sweden')\n",
            "(25, 'Frankenversand', 'Peter Franken', 'Berliner Platz 43', 'München', '80805', 'Germany')\n",
            "(26, 'France restauration', 'Carine Schmitt', '54, rue Royale', 'Nantes', '44000', 'France')\n",
            "(27, 'Franchi S.p.A.', 'Paolo Accorti', 'Via Monte Bianco 34', 'Torino', '10100', 'Italy')\n",
            "(28, 'Furia Bacalhau e Frutos do Mar', 'Lino Rodriguez', 'Jardim das rosas n. 32', 'Lisboa', '1675', 'Portugal')\n",
            "(29, 'Galería del gastrónomo', 'Eduardo Saavedra', 'Rambla de Cataluña, 23', 'Barcelona', '8022', 'Spain')\n",
            "(30, 'Godos Cocina Típica', 'José Pedro Freyre', 'C/ Romero, 33', 'Sevilla', '41101', 'Spain')\n",
            "(31, 'Gourmet Lanchonetes', 'André Fonseca', 'Av. Brasil, 442', 'Campinas', '04876-786', 'Brazil')\n",
            "(32, 'Great Lakes Food Market', 'Howard Snyder', '2732 Baker Blvd.', 'Eugene', '97403', 'USA')\n",
            "(33, 'GROSELLA-Restaurante', 'Manuel Pereira', '5ª Ave. Los Palos Grandes', 'Caracas', '1081', 'Venezuela')\n",
            "(34, 'Hanari Carnes', 'Mario Pontes', 'Rua do Paço, 67', 'Rio de Janeiro', '05454-876', 'Brazil')\n",
            "(35, 'HILARIÓN-Abastos', 'Carlos Hernández', 'Carrera 22 con Ave. Carlos Soublette #8-35', 'San Cristóbal', '5022', 'Venezuela')\n",
            "(36, 'Hungry Coyote Import Store', 'Yoshi Latimer', 'City Center Plaza 516 Main St.', 'Elgin', '97827', 'USA')\n",
            "(37, 'Hungry Owl All-Night Grocers', 'Patricia McKenna', '8 Johnstown Road', 'Cork', '', 'Ireland')\n",
            "(38, 'Island Trading', 'Helen Bennett', 'Garden House Crowther Way', 'Cowes', 'PO31 7PJ', 'UK')\n",
            "(39, 'Königlich Essen', 'Philip Cramer', 'Maubelstr. 90', 'Brandenburg', '14776', 'Germany')\n",
            "(40, \"La corne d''abondance\", 'Daniel Tonini', \"67, avenue de l''Europe\", 'Versailles', '78000', 'France')\n",
            "(41, \"La maison d''Asie\", 'Annette Roulet', '1 rue Alsace-Lorraine', 'Toulouse', '31000', 'France')\n",
            "(42, 'Laughing Bacchus Wine Cellars', 'Yoshi Tannamuri', '1900 Oak St.', 'Vancouver', 'V3F 2K1', 'Canada')\n",
            "(43, 'Lazy K Kountry Store', 'John Steel', '12 Orchestra Terrace', 'Walla Walla', '99362', 'USA')\n",
            "(44, 'Lehmanns Marktstand', 'Renate Messner', 'Magazinweg 7', 'Frankfurt a.M.', '60528', 'Germany')\n",
            "(45, \"Let''s Stop N Shop\", 'Jaime Yorres', '87 Polk St. Suite 5', 'San Francisco', '94117', 'USA')\n",
            "(46, 'LILA-Supermercado', 'Carlos González', 'Carrera 52 con Ave. Bolívar #65-98 Llano Largo', 'Barquisimeto', '3508', 'Venezuela')\n",
            "(47, 'LINO-Delicateses', 'Felipe Izquierdo', 'Ave. 5 de Mayo Porlamar', 'I. de Margarita', '4980', 'Venezuela')\n",
            "(48, 'Lonesome Pine Restaurant', 'Fran Wilson', '89 Chiaroscuro Rd.', 'Portland', '97219', 'USA')\n",
            "(49, 'Magazzini Alimentari Riuniti', 'Giovanni Rovelli', 'Via Ludovico il Moro 22', 'Bergamo', '24100', 'Italy')\n",
            "(50, 'Maison Dewey', 'Catherine Dewey', 'Rue Joseph-Bens 532', 'Bruxelles', 'B-1180', 'Belgium')\n",
            "(51, 'Mère Paillarde', 'Jean Fresnière', '43 rue St. Laurent', 'Montréal', 'H1J 1C3', 'Canada')\n",
            "(52, 'Morgenstern Gesundkost', 'Alexander Feuer', 'Heerstr. 22', 'Leipzig', '4179', 'Germany')\n",
            "(53, 'North/South', 'Simon Crowther', 'South House 300 Queensbridge', 'London', 'SW7 1RZ', 'UK')\n",
            "(54, 'Océano Atlántico Ltda.', 'Yvonne Moncada', 'Ing. Gustavo Moncada 8585 Piso 20-A', 'Buenos Aires', '1010', 'Argentina')\n",
            "(55, 'Old World Delicatessen', 'Rene Phillips', '2743 Bering St.', 'Anchorage', '99508', 'USA')\n",
            "(56, 'Ottilies Käseladen', 'Henriette Pfalzheim', 'Mehrheimerstr. 369', 'Köln', '50739', 'Germany')\n",
            "(57, 'Paris spécialités', 'Marie Bertrand', '265, boulevard Charonne', 'Paris', '75012', 'France')\n",
            "(58, 'Pericles Comidas clásicas', 'Guillermo Fernández', 'Calle Dr. Jorge Cash 321', 'México D.F.', '5033', 'Mexico')\n",
            "(59, 'Piccolo und mehr', 'Georg Pipps', 'Geislweg 14', 'Salzburg', '5020', 'Austria')\n",
            "(60, 'Princesa Isabel Vinhoss', 'Isabel de Castro', 'Estrada da saúde n. 58', 'Lisboa', '1756', 'Portugal')\n",
            "(61, 'Que Delícia', 'Bernardo Batista', 'Rua da Panificadora, 12', 'Rio de Janeiro', '02389-673', 'Brazil')\n",
            "(62, 'Queen Cozinha', 'Lúcia Carvalho', 'Alameda dos Canàrios, 891', 'São Paulo', '05487-020', 'Brazil')\n",
            "(63, 'QUICK-Stop', 'Horst Kloss', 'Taucherstraße 10', 'Cunewalde', '1307', 'Germany')\n",
            "(64, 'Rancho grande', 'Sergio Gutiérrez', 'Av. del Libertador 900', 'Buenos Aires', '1010', 'Argentina')\n",
            "(65, 'Rattlesnake Canyon Grocery', 'Paula Wilson', '2817 Milton Dr.', 'Albuquerque', '87110', 'USA')\n",
            "(66, 'Reggiani Caseifici', 'Maurizio Moroni', 'Strada Provinciale 124', 'Reggio Emilia', '42100', 'Italy')\n",
            "(67, 'Ricardo Adocicados', 'Janete Limeira', 'Av. Copacabana, 267', 'Rio de Janeiro', '02389-890', 'Brazil')\n",
            "(68, 'Richter Supermarkt', 'Michael Holz', 'Grenzacherweg 237', 'Genève', '1203', 'Switzerland')\n",
            "(69, 'Romero y tomillo', 'Alejandra Camino', 'Gran Vía, 1', 'Madrid', '28001', 'Spain')\n",
            "(70, 'Santé Gourmet', 'Jonas Bergulfsen', 'Erling Skakkes gate 78', 'Stavern', '4110', 'Norway')\n",
            "(71, 'Save-a-lot Markets', 'Jose Pavarotti', '187 Suffolk Ln.', 'Boise', '83720', 'USA')\n",
            "(72, 'Seven Seas Imports', 'Hari Kumar', '90 Wadhurst Rd.', 'London', 'OX15 4NB', 'UK')\n",
            "(73, 'Simons bistro', 'Jytte Petersen', 'Vinbæltet 34', 'København', '1734', 'Denmark')\n",
            "(74, 'Spécialités du monde', 'Dominique Perrier', '25, rue Lauriston', 'Paris', '75016', 'France')\n",
            "(75, 'Split Rail Beer & Ale', 'Art Braunschweiger', 'P.O. Box 555', 'Lander', '82520', 'USA')\n",
            "(76, 'Suprêmes délices', 'Pascale Cartrain', 'Boulevard Tirou, 255', 'Charleroi', 'B-6000', 'Belgium')\n",
            "(77, 'The Big Cheese', 'Liz Nixon', '89 Jefferson Way Suite 2', 'Portland', '97201', 'USA')\n",
            "(78, 'The Cracker Box', 'Liu Wong', '55 Grizzly Peak Rd.', 'Butte', '59801', 'USA')\n",
            "(79, 'Toms Spezialitäten', 'Karin Josephs', 'Luisenstr. 48', 'Münster', '44087', 'Germany')\n",
            "(80, 'Tortuga Restaurante', 'Miguel Angel Paolino', 'Avda. Azteca 123', 'México D.F.', '5033', 'Mexico')\n",
            "(81, 'Tradição Hipermercados', 'Anabela Domingues', 'Av. Inês de Castro, 414', 'São Paulo', '05634-030', 'Brazil')\n",
            "(82, \"Trail''s Head Gourmet Provisioners\", 'Helvetius Nagy', '722 DaVinci Blvd.', 'Kirkland', '98034', 'USA')\n",
            "(83, 'Vaffeljernet', 'Palle Ibsen', 'Smagsløget 45', 'Århus', '8200', 'Denmark')\n",
            "(84, 'Victuailles en stock', 'Mary Saveley', '2, rue du Commerce', 'Lyon', '69004', 'France')\n",
            "(85, 'Vins et alcools Chevalier', 'Paul Henriot', \"59 rue de l''Abbaye\", 'Reims', '51100', 'France')\n",
            "(86, 'Die Wandernde Kuh', 'Rita Müller', 'Adenauerallee 900', 'Stuttgart', '70563', 'Germany')\n",
            "(87, 'Wartian Herkku', 'Pirkko Koskitalo', 'Torikatu 38', 'Oulu', '90110', 'Finland')\n",
            "(88, 'Wellington Importadora', 'Paula Parente', 'Rua do Mercado, 12', 'Resende', '08737-363', 'Brazil')\n",
            "(89, 'White Clover Markets', 'Karl Jablonski', '305 - 14th Ave. S. Suite 3B', 'Seattle', '98128', 'USA')\n",
            "(90, 'Wilman Kala', 'Matti Karttunen', 'Keskuskatu 45', 'Helsinki', '21240', 'Finland')\n",
            "(91, 'Wolski', 'Zbyszek', 'ul. Filtrowa 68', 'Walla', '01-012', 'Poland')\n"
          ]
        }
      ],
      "source": [
        "import sqlite3\n",
        "from google.colab import files\n",
        "\n",
        "# Assume the uploaded file is 'my_database.sqlite'\n",
        "db_file = '/content/northwind_small.sqlite'\n",
        "\n",
        "# Connect to the uploaded SQLite database\n",
        "conn = sqlite3.connect(db_file)\n",
        "cursor = conn.cursor()\n",
        "cursor.execute('SELECT * FROM Customers')\n",
        "tables = cursor.fetchall()\n",
        "\n",
        "# Print the tables in the database\n",
        "for table in tables:\n",
        "    print(table)\n",
        "\n",
        "# Close the connection\n",
        "conn.close()"
      ]
    },
    {
      "cell_type": "markdown",
      "metadata": {
        "id": "pi6bSycCU0Sr"
      },
      "source": [
        "# Query Processing"
      ]
    },
    {
      "cell_type": "code",
      "execution_count": null,
      "metadata": {
        "id": "J6-FXS9oLx9G"
      },
      "outputs": [],
      "source": [
        "def input_chat(customer_message, previous_data=None):\n",
        "    # Send the initial customer message to the model\n",
        "    response = chat.send_message(customer_message)\n",
        "\n",
        "    # Convert the response JSON into a dictionary\n",
        "    decision = json.loads(response.text)\n",
        "    content = decision['content']\n",
        "\n",
        "    # Now that we have a sufficiently confident answer, return the content (SQL query)\n",
        "    if decision[\"is_sql_query\"]:\n",
        "      conn = sqlite3.connect(db_file)\n",
        "      cursor = conn.cursor()\n",
        "      print(content)\n",
        "      cursor.execute(content)\n",
        "      results = cursor.fetchall()\n",
        "      only_data = \"\"\n",
        "      result_str = \"Current overall result is '\"\n",
        "      if previous_data is not None:\n",
        "        result_str += f\"\\n{previous_data}\\n\"\n",
        "        only_data = previous_data\n",
        "      for row in results:\n",
        "          result_str += str(row) + \"\\n\"\n",
        "          only_data += str(row) + \"\\n\"\n",
        "      result_str += \"'\"\n",
        "      print(result_str)\n",
        "      return input_chat(result_str, only_data)\n",
        "    else:\n",
        "      return content\n",
        "\n",
        "\n"
      ]
    },
    {
      "cell_type": "markdown",
      "metadata": {
        "id": "nv7i3p7aU5XT"
      },
      "source": [
        "# Gradio Interface **DEMO**"
      ]
    },
    {
      "cell_type": "code",
      "execution_count": null,
      "metadata": {
        "colab": {
          "base_uri": "https://localhost:8080/",
          "height": 707
        },
        "id": "ftuAHfGzMBRD",
        "outputId": "d154b96f-2dbd-4a2e-bf33-d9cfe23ed30b"
      },
      "outputs": [
        {
          "output_type": "stream",
          "name": "stdout",
          "text": [
            "Running Gradio in a Colab notebook requires sharing enabled. Automatically setting `share=True` (you can turn this off by setting `share=False` in `launch()` explicitly).\n",
            "\n",
            "Colab notebook detected. This cell will run indefinitely so that you can see errors and logs. To turn off, set debug=False in launch().\n",
            "* Running on public URL: https://4a11bd3022022ff0a7.gradio.live\n",
            "\n",
            "This share link expires in 72 hours. For free permanent hosting and GPU upgrades, run `gradio deploy` from the terminal in the working directory to deploy to Hugging Face Spaces (https://huggingface.co/spaces)\n"
          ]
        },
        {
          "output_type": "display_data",
          "data": {
            "text/plain": [
              "<IPython.core.display.HTML object>"
            ],
            "text/html": [
              "<div><iframe src=\"https://4a11bd3022022ff0a7.gradio.live\" width=\"100%\" height=\"500\" allow=\"autoplay; camera; microphone; clipboard-read; clipboard-write;\" frameborder=\"0\" allowfullscreen></iframe></div>"
            ]
          },
          "metadata": {}
        },
        {
          "output_type": "stream",
          "name": "stdout",
          "text": [
            "SELECT * FROM Employees WHERE FirstName LIKE '%Ahmet%' OR LastName LIKE '%Ahmet%';\n",
            "Current overall result is ''\n",
            "Keyboard interruption in main thread... closing server.\n",
            "Killing tunnel 127.0.0.1:7860 <> https://4a11bd3022022ff0a7.gradio.live\n"
          ]
        },
        {
          "output_type": "execute_result",
          "data": {
            "text/plain": []
          },
          "metadata": {},
          "execution_count": 28
        }
      ],
      "source": [
        "import gradio as gr\n",
        "import json\n",
        "\n",
        "\n",
        "def chatbot_interface(user_input, history):\n",
        "    return input_chat(user_input)\n",
        "\n",
        "# Create the Gradio interface\n",
        "iface = gr.ChatInterface(\n",
        "    fn=chatbot_interface,\n",
        "    title=\"Company Database Chatbot\",\n",
        "    description=\"Ask questions about the company database, and the chatbot will generate the corresponding SQL query, retrieve the results, and explain them in natural language.\",\n",
        "    type=\"messages\"\n",
        ")\n",
        "\n",
        "# Launch the Gradio interface\n",
        "iface.launch(debug=True)\n"
      ]
    },
    {
      "cell_type": "code",
      "execution_count": null,
      "metadata": {
        "id": "QfTzn0f38bFL"
      },
      "outputs": [],
      "source": [
        "chat"
      ]
    }
  ],
  "metadata": {
    "colab": {
      "collapsed_sections": [
        "k91zHqBsUpec"
      ],
      "provenance": [],
      "include_colab_link": true
    },
    "kernelspec": {
      "display_name": "Python 3",
      "name": "python3"
    },
    "language_info": {
      "name": "python"
    }
  },
  "nbformat": 4,
  "nbformat_minor": 0
}